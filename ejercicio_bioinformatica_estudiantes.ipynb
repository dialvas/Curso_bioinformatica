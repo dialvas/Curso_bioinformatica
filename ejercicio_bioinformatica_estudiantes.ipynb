{
  "nbformat": 4,
  "nbformat_minor": 0,
  "metadata": {
    "colab": {
      "provenance": []
    },
    "kernelspec": {
      "name": "python3",
      "display_name": "Python 3"
    },
    "language_info": {
      "name": "python"
    }
  },
  "cells": [
    {
      "cell_type": "markdown",
      "source": [
        "**Introducción a la línea de comandos en Google Colab**\n",
        "\n",
        "Google Colab no solo permite ejecutar código en Python, también nos da acceso a una terminal básica de línea de comandos de Linux. Esto es muy útil porque muchos flujos de trabajo en ciencia de datos y bioinformática requieren manejar archivos, instalar programas o ejecutar herramientas que están pensadas para funcionar directamente en el sistema operativo.\n",
        "\n",
        "En Colab podemos ejecutar comandos de Linux de manera sencilla:\n",
        " Basta con escribir el comando precedido por un signo de exclamación !.\n",
        "\n",
        " A partir de ahora recuerda que vamos a usar el signo ! antes de escribir cualquier comando para que se ejecute en bash.\n",
        "\n",
        " **pwd: ¿Dónde estoy en el sistema de archivos?**\n",
        "\n",
        " El comando pwd significa print working directory y sirve para mostrar en qué carpeta (directorio) estamos trabajando dentro del sistema de archivos.\n",
        "\n",
        "Nota importante en Colab:\n",
        "\n",
        "Siempre que inicias un entorno nuevo, Colab nos ubica por defecto en la carpeta /content.\n"
      ],
      "metadata": {
        "id": "swiWhOIzyMh9"
      }
    },
    {
      "cell_type": "markdown",
      "source": [
        "**mkdir: Crear una nueva carpeta**\n",
        "\n",
        "El comando mkdir significa make directory, y sirve para crear una carpeta (directorio) en el sistema de archivos.\n",
        "\n",
        "En Google Colab, como trabajamos sobre un entorno Linux, lo usamos igual que en una terminal normal.\n",
        "\n",
        "Nota: Cada vez que reiniciamos el entorno, las carpetas creadas en /content se borran porque la sesión es temporal."
      ],
      "metadata": {
        "id": "WiCPufqYz2Qt"
      }
    },
    {
      "cell_type": "code",
      "source": [
        "!pwd"
      ],
      "metadata": {
        "id": "W5Qibj-2B7CS"
      },
      "execution_count": null,
      "outputs": []
    },
    {
      "cell_type": "code",
      "source": [
        "!mkdir bioinformatica"
      ],
      "metadata": {
        "id": "09uvKIRR0niW"
      },
      "execution_count": null,
      "outputs": []
    },
    {
      "cell_type": "markdown",
      "source": [
        "**cd: Cambiar de carpeta (directorio)**\n",
        "\n",
        "El comando cd significa change directory y se utiliza para movernos entre carpetas dentro del sistema de archivos."
      ],
      "metadata": {
        "id": "5O8zfx_f1DkH"
      }
    },
    {
      "cell_type": "code",
      "source": [
        "cd bioinformatica/"
      ],
      "metadata": {
        "id": "iOGhioG70-ma"
      },
      "execution_count": null,
      "outputs": []
    },
    {
      "cell_type": "markdown",
      "source": [],
      "metadata": {
        "id": "e-nC0pFn2Nhd"
      }
    },
    {
      "cell_type": "code",
      "source": [
        "!pwd"
      ],
      "metadata": {
        "id": "d8KUskri2M5o"
      },
      "execution_count": null,
      "outputs": []
    },
    {
      "cell_type": "markdown",
      "source": [
        "\n",
        "**wget: descargar archivos desde internet**\n",
        "\n",
        "wget es un comando de Linux que permite descargar archivos directamente desde una dirección web (URL).\n",
        "\n",
        "En nuestro caso, estamos descargando un archivo en formato .gtf.gz desde los servidores de Ensembl.\n",
        "\n",
        "Contiene información sobre genes, transcritos y otras características de la referencia del genoma humano GRCh38, versión 111 de Ensembl.\n",
        "\n",
        "El .gz indica que está comprimido con gzip para ocupar menos espacio."
      ],
      "metadata": {
        "id": "9XtfFrNp20HW"
      }
    },
    {
      "cell_type": "code",
      "execution_count": null,
      "metadata": {
        "id": "3824aeg9PuEE"
      },
      "outputs": [],
      "source": [
        "!wget https://ftp.ensembl.org/pub/release-111/gtf/homo_sapiens/Homo_sapiens.GRCh38.111.chr.gtf.gz"
      ]
    },
    {
      "cell_type": "markdown",
      "source": [
        "**ls: Listar archivos y carpetas**\n",
        "\n",
        "El comando ls significa list y sirve para mostrar el contenido del directorio actual (es decir, qué archivos y carpetas hay dentro).\n",
        "\n"
      ],
      "metadata": {
        "id": "Q8cXEQmG3GN6"
      }
    },
    {
      "cell_type": "code",
      "source": [
        "!"
      ],
      "metadata": {
        "id": "DeTEkqSWQcRH"
      },
      "execution_count": null,
      "outputs": []
    },
    {
      "cell_type": "markdown",
      "source": [
        "**zcat**\n",
        "\n",
        "zcat sirve para leer el contenido de archivos comprimidos con gzip (.gz) sin descomprimirlos físicamente.\n",
        "\n",
        "**| (pipe)**\n",
        "\n",
        "La barra | conecta la salida de un comando con la entrada de otro.\n",
        "\n",
        "**head**\n",
        "\n",
        "head muestra las primeras líneas de un archivo o flujo de datos."
      ],
      "metadata": {
        "id": "JaTjCoBK4A7g"
      }
    },
    {
      "cell_type": "code",
      "source": [
        "!zcat"
      ],
      "metadata": {
        "id": "JhrRmv0Kq8C2"
      },
      "execution_count": null,
      "outputs": []
    },
    {
      "cell_type": "markdown",
      "source": [
        "**Componentes del archivo GTF**\n",
        "1. seqname\tNombre del cromosoma o contig (por ejemplo 1, X, MT).\n",
        "\n",
        "2. source\tFuente de la anotación, por ejemplo Ensembl, HAVANA, etc.\n",
        "\n",
        "3. feature\tTipo de elemento genómico, como gene, transcript, exon, CDS.\n",
        "\n",
        "4. start\tPosición de inicio de la característica en el cromosoma (1-indexado).\n",
        "\n",
        "5. end\tPosición final de la característica en el cromosoma.\n",
        "\n",
        "6. score\tPuntuación numérica opcional, a veces se usa . si no aplica.\n",
        "\n",
        "7. strand\tHebra del ADN: + (sentido directo) o - (sentido inverso).\n",
        "\n",
        "8. frame\tFase de lectura para CDS: 0, 1, 2, o . si no aplica. Indica cómo alinear la codificación de proteínas.\n",
        "\n",
        "9. attribute\tLista de atributos adicionales en formato clave \"valor\";, como gene_id, transcript_id, gene_name."
      ],
      "metadata": {
        "id": "QSd8Diec49XQ"
      }
    },
    {
      "cell_type": "markdown",
      "source": [
        "**grep -w transcript**\n",
        "\n",
        "grep busca líneas que coincidan con un patrón de texto.\n",
        "\n",
        "-w indica que busque la palabra completa, no coincidencias parciales.\n",
        "\n",
        "transcript es el patrón:\n",
        "\n",
        "Solo mostrará las filas del archivo GTF donde la columna 3 (feature) sea “transcript”, es decir, aquellas que describen transcritos."
      ],
      "metadata": {
        "id": "hSFmSF2Q5cCD"
      }
    },
    {
      "cell_type": "code",
      "source": [
        "## para buscar transcritos\n",
        "!zcat"
      ],
      "metadata": {
        "id": "BFylzYR0sw_S"
      },
      "execution_count": null,
      "outputs": []
    },
    {
      "cell_type": "markdown",
      "source": [],
      "metadata": {
        "id": "03t2SWhP7CBe"
      }
    },
    {
      "cell_type": "markdown",
      "source": [
        "**cut -f9**\n",
        "\n",
        "cut permite seleccionar columnas específicas de un archivo separado por tabulaciones (\\t).\n",
        "\n",
        "-f9 indica que solo queremos la columna 9 del GTF, que es donde están los atributos (como gene_id, transcript_id, gene_name).\n",
        "\n",
        "**cut -d';' -f1,3,5**\n",
        "\n",
        "Ahora usamos cut de nuevo, pero con otro delimitador:\n",
        "\n",
        "-d';' indica que el separador es el punto y coma ; que divide los atributos.\n",
        "\n",
        "-f1,3,5 selecciona los campos 1, 3 y 5 dentro de la columna de atributos."
      ],
      "metadata": {
        "id": "7eS0R2zztDqf"
      }
    },
    {
      "cell_type": "code",
      "source": [
        "!zcat Homo_sapiens.GRCh38.111.chr.gtf.gz |grep -w transcript | cut -f9 | cut -d';' -f1,3,5 |head"
      ],
      "metadata": {
        "id": "O1vBSY9Ntr4t"
      },
      "execution_count": null,
      "outputs": []
    },
    {
      "cell_type": "code",
      "source": [
        "\n",
        "#### DEBEMOS SELECCIONAR ÚNICAMENTE LOS gene_name\n",
        "\n",
        "!zcat"
      ],
      "metadata": {
        "id": "MswWmLcbt40P"
      },
      "execution_count": null,
      "outputs": []
    },
    {
      "cell_type": "code",
      "source": [
        "!zcat"
      ],
      "metadata": {
        "id": "1-ypGwUiuI8E"
      },
      "execution_count": null,
      "outputs": []
    },
    {
      "cell_type": "markdown",
      "source": [
        "**Guardar el archivo editado**\n",
        "\n",
        "geneId_transcriptId_geneName_all.txt\n",
        "\n",
        "El símbolo > guarda toda la salida en un archivo llamado geneId_transcriptId_geneName_all.txt."
      ],
      "metadata": {
        "id": "GrnvccYq-z7t"
      }
    },
    {
      "cell_type": "code",
      "source": [
        "!zcat"
      ],
      "metadata": {
        "id": "YGCGP20c-7Wf"
      },
      "execution_count": null,
      "outputs": []
    },
    {
      "cell_type": "code",
      "source": [
        "!pwd"
      ],
      "metadata": {
        "id": "X_ZPCJWmuoK4"
      },
      "execution_count": null,
      "outputs": []
    },
    {
      "cell_type": "markdown",
      "source": [
        "**El archivo generado esta en /content y debo moverlo para poder tenerlo en mi PC.**\n",
        "\n",
        "Para esto usamos el lenguaje python"
      ],
      "metadata": {
        "id": "8oN6Qe5f_79H"
      }
    },
    {
      "cell_type": "code",
      "source": [
        "from google.colab import files\n",
        "files.download(\"geneId_transcriptId_geneName_all.txt\")"
      ],
      "metadata": {
        "colab": {
          "base_uri": "https://localhost:8080/",
          "height": 17
        },
        "id": "EKfD_rufvqvQ",
        "outputId": "6bd83797-91f2-4133-bb45-b690728b56eb"
      },
      "execution_count": null,
      "outputs": [
        {
          "output_type": "display_data",
          "data": {
            "text/plain": [
              "<IPython.core.display.Javascript object>"
            ],
            "application/javascript": [
              "\n",
              "    async function download(id, filename, size) {\n",
              "      if (!google.colab.kernel.accessAllowed) {\n",
              "        return;\n",
              "      }\n",
              "      const div = document.createElement('div');\n",
              "      const label = document.createElement('label');\n",
              "      label.textContent = `Downloading \"${filename}\": `;\n",
              "      div.appendChild(label);\n",
              "      const progress = document.createElement('progress');\n",
              "      progress.max = size;\n",
              "      div.appendChild(progress);\n",
              "      document.body.appendChild(div);\n",
              "\n",
              "      const buffers = [];\n",
              "      let downloaded = 0;\n",
              "\n",
              "      const channel = await google.colab.kernel.comms.open(id);\n",
              "      // Send a message to notify the kernel that we're ready.\n",
              "      channel.send({})\n",
              "\n",
              "      for await (const message of channel.messages) {\n",
              "        // Send a message to notify the kernel that we're ready.\n",
              "        channel.send({})\n",
              "        if (message.buffers) {\n",
              "          for (const buffer of message.buffers) {\n",
              "            buffers.push(buffer);\n",
              "            downloaded += buffer.byteLength;\n",
              "            progress.value = downloaded;\n",
              "          }\n",
              "        }\n",
              "      }\n",
              "      const blob = new Blob(buffers, {type: 'application/binary'});\n",
              "      const a = document.createElement('a');\n",
              "      a.href = window.URL.createObjectURL(blob);\n",
              "      a.download = filename;\n",
              "      div.appendChild(a);\n",
              "      a.click();\n",
              "      div.remove();\n",
              "    }\n",
              "  "
            ]
          },
          "metadata": {}
        },
        {
          "output_type": "display_data",
          "data": {
            "text/plain": [
              "<IPython.core.display.Javascript object>"
            ],
            "application/javascript": [
              "download(\"download_29b1c833-7f8a-4b65-b3cb-5106a17fdb0f\", \"geneId_transcriptId_geneName_all.txt\", 10392428)"
            ]
          },
          "metadata": {}
        }
      ]
    }
  ]
}